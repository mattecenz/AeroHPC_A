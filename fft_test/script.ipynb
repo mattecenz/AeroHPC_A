{
 "cells": [
  {
   "cell_type": "code",
   "execution_count": null,
   "metadata": {
    "vscode": {
     "languageId": "plaintext"
    }
   },
   "outputs": [],
   "source": [
    "import numpy as np\n",
    "import numpy.fft as fft\n",
    "import matplotlib.pyplot as plt\n",
    "\n",
    "\n",
    "N = 20  # Size of the array\n",
    "L = 1.0  # Length of the domain\n",
    "\n",
    "# Step 1: Generate a random 1D array `x`\n",
    "x = np.linspace(0, 2 * np.pi, N) \n",
    "x = np.cos(x)\n",
    "\n",
    "\n",
    "# Step 2: Construct the matrix `A` with periodic boundary conditions\n",
    "A = -2 * np.eye(N)  # Main diagonal\n",
    "for i in range(N - 1):\n",
    "    A[i, i + 1] = 1  # Upper diagonal\n",
    "    A[i + 1, i] = 1  # Lower diagonal\n",
    "\n",
    "# Implement periodicity\n",
    "A[0, N - 1] = 1  # (upper-right corner)\n",
    "A[N - 1, 0] = 1  # (lower-left corner)\n",
    "\n",
    "\n",
    "# Step 3: Compute `b = A x`\n",
    "b = A @ x\n",
    "\n",
    "\n",
    "# Step 4: Apply FFT to `b` to get `b_tilde`\n",
    "b_tilde = fft.fft(b)\n",
    "\n",
    "\n",
    "# Step 5: Solve for `x_tilde` in Fourier space by dividing `b_tilde` by `-k^2`\n",
    "# Define the Fourier wavenumbers `k`\n",
    "k = np.fft.fftfreq(N) * 2 * np.pi / L\n",
    "k[0] = 1e-10  # Avoid division by zero for the zero frequency component\n",
    "\n",
    "# Create x_tilde in Fourier space\n",
    "x_tilde = np.zeros(N, dtype=complex)\n",
    "x_tilde[1:] = b_tilde[1:] / (-k[1:]**2)\n",
    "\n",
    "\n",
    "# Step 6: Perform inverse FFT on `x_tilde` to get the reconstructed `x`\n",
    "x_reconstructed = fft.ifft(x_tilde).real\n",
    "\n",
    "\n",
    "l2_norm = np.linalg.norm(x - x_reconstructed)\n",
    "print(\"L2 norm: \", l2_norm)\n",
    "\n",
    "plt.plot(x, label='x')\n",
    "plt.plot(x_reconstructed, label='x_new')\n",
    "\n",
    "plt.legend()\n",
    "plt.show()"
   ]
  }
 ],
 "metadata": {
  "language_info": {
   "name": "python"
  }
 },
 "nbformat": 4,
 "nbformat_minor": 2
}
